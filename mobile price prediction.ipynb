{
 "cells": [
  {
   "cell_type": "markdown",
   "id": "0c51572f",
   "metadata": {},
   "source": [
    "pip install -U scikit-learn"
   ]
  },
  {
   "cell_type": "code",
   "execution_count": null,
   "id": "ba82c776",
   "metadata": {},
   "outputs": [],
   "source": [
    "pip install pandas-profiling"
   ]
  },
  {
   "cell_type": "code",
   "execution_count": 69,
   "id": "1d0a0d64",
   "metadata": {},
   "outputs": [],
   "source": [
    "import pandas_profiling\n",
    "import matplotlib.pyplot as plt\n",
    "from matplotlib import rcParams\n",
    "import warnings\n",
    "import pandas as pd\n",
    "import numpy as np\n",
    "\n",
    "warnings.filterwarnings(\"ignore\")\n",
    "rcParams[\"figure.figsize\"]=10,6\n",
    "np.random.seed(42)\n",
    "%matplotlib inline"
   ]
  },
  {
   "cell_type": "code",
   "execution_count": 212,
   "id": "15c094b5",
   "metadata": {},
   "outputs": [],
   "source": [
    " df = pd.read_csv(\"Pictures/smartphone.csv\")"
   ]
  },
  {
   "cell_type": "code",
   "execution_count": 216,
   "id": "439e84a2",
   "metadata": {},
   "outputs": [],
   "source": [
    "# Importing train_test_split function\n",
    "from sklearn.model_selection import train_test_split\n",
    "X = df.drop('price_range', axis=1)\n",
    "y = df['price_range']"
   ]
  },
  {
   "cell_type": "code",
   "execution_count": 219,
   "id": "3cffdea8",
   "metadata": {},
   "outputs": [],
   "source": [
    "# Splitting dataset into training set and test set\n",
    "X_train, X_test, y_train, y_test = train_test_split(X, y, test_size=0.3) # 70% training and 30% test\n"
   ]
  },
  {
   "cell_type": "code",
   "execution_count": 220,
   "id": "68fc743a",
   "metadata": {},
   "outputs": [],
   "source": [
    "#Importing Random Forest Model\n",
    "from sklearn.ensemble import RandomForestClassifier\n",
    "\n",
    "\n",
    "#creating a classifier\n",
    "clf=RandomForestClassifier(n_estimators=100)\n",
    "\n",
    "#Training the model using the training sets\n",
    "clf.fit(X_train,y_train)\n",
    "\n",
    "\n",
    "y_pred=clf.predict(X_test)\n"
   ]
  },
  {
   "cell_type": "code",
   "execution_count": 221,
   "id": "9c667770",
   "metadata": {},
   "outputs": [
    {
     "data": {
      "text/plain": [
       "0.855"
      ]
     },
     "execution_count": 221,
     "metadata": {},
     "output_type": "execute_result"
    }
   ],
   "source": [
    "#Importing scikit-learn metrics module for accuracy calculation\n",
    "from sklearn import metrics\n",
    "\n",
    "\n",
    "metrics.accuracy_score(y_test,y_pred)"
   ]
  },
  {
   "cell_type": "code",
   "execution_count": 238,
   "id": "2b52cc3a",
   "metadata": {},
   "outputs": [
    {
     "data": {
      "text/plain": [
       "<bound method Index.all of Index(['battery_power', 'blue', 'clock_speed', 'dual_sim', 'fc', 'four_g',\n",
       "       'int_memory', 'm_dep', 'mobile_wt', 'n_cores', 'pc', 'px_height',\n",
       "       'px_width', 'ram', 'sc_h', 'sc_w', 'talk_time', 'three_g',\n",
       "       'touch_screen', 'wifi', 'price_range'],\n",
       "      dtype='object')>"
      ]
     },
     "execution_count": 238,
     "metadata": {},
     "output_type": "execute_result"
    }
   ],
   "source": [
    "df.columns.all"
   ]
  },
  {
   "cell_type": "code",
   "execution_count": 241,
   "id": "034da6be",
   "metadata": {},
   "outputs": [
    {
     "data": {
      "text/plain": [
       "ram              0.459982\n",
       "battery_power    0.066146\n",
       "px_height        0.055940\n",
       "px_width         0.055601\n",
       "mobile_wt        0.044407\n",
       "int_memory       0.038147\n",
       "talk_time        0.033623\n",
       "pc               0.032401\n",
       "sc_w             0.030823\n",
       "sc_h             0.030581\n",
       "clock_speed      0.029321\n",
       "fc               0.027622\n",
       "m_dep            0.026075\n",
       "n_cores          0.025375\n",
       "four_g           0.008080\n",
       "touch_screen     0.007610\n",
       "blue             0.007482\n",
       "wifi             0.007216\n",
       "dual_sim         0.007135\n",
       "three_g          0.006432\n",
       "dtype: float64"
      ]
     },
     "execution_count": 241,
     "metadata": {},
     "output_type": "execute_result"
    }
   ],
   "source": [
    "#checking the feature importance\n",
    "\n",
    "feature_imp = pd.Series(clf.feature_importances_,index=['battery_power', 'blue', 'clock_speed', 'dual_sim', 'fc', 'four_g',\n",
    "       'int_memory', 'm_dep', 'mobile_wt', 'n_cores', 'pc', 'px_height',\n",
    "       'px_width', 'ram', 'sc_h', 'sc_w', 'talk_time', 'three_g',\n",
    "       'touch_screen', 'wifi']).sort_values(ascending=False)\n",
    "feature_imp"
   ]
  },
  {
   "cell_type": "code",
   "execution_count": 242,
   "id": "9041d354",
   "metadata": {},
   "outputs": [
    {
     "name": "stderr",
     "output_type": "stream",
     "text": [
      "No handles with labels found to put in legend.\n"
     ]
    },
    {
     "data": {
      "image/png": "[encoded data removed]",
      "text/plain": [
       "<Figure size 432x288 with 1 Axes>"
      ]
     },
     "metadata": {
      "needs_background": "light"
     },
     "output_type": "display_data"
    }
   ],
   "source": [
    "import seaborn as sns\n",
    "sns.barplot(x=feature_imp, y=feature_imp.index)\n",
    "plt.xlabel('Feature Importance Score')\n",
    "plt.ylabel('Features')\n",
    "plt.title(\"Visualizing Important Features\")\n",
    "plt.legend()\n",
    "plt.show()"
   ]
  },
  {
   "cell_type": "code",
   "execution_count": 296,
   "id": "c54de6f0",
   "metadata": {},
   "outputs": [],
   "source": [
    "#dropping the least important feature three_g\n",
    "\n",
    "X = df.drop(['price_range','three_g','dual_sim','blue'], axis=1)\n",
    "y = df['price_range']"
   ]
  },
  {
   "cell_type": "code",
   "execution_count": 297,
   "id": "2a826281",
   "metadata": {},
   "outputs": [],
   "source": [
    "X_train, X_test, y_train, y_test = train_test_split(X, y, test_size=0.3)"
   ]
  },
  {
   "cell_type": "code",
   "execution_count": 326,
   "id": "8aa0f47b",
   "metadata": {},
   "outputs": [],
   "source": [
    "clf=RandomForestClassifier(n_estimators=140)\n",
    "\n",
    "clf.fit(X_train,y_train)\n",
    "y_pred=clf.predict(X_test)"
   ]
  },
  {
   "cell_type": "code",
   "execution_count": 327,
   "id": "88299ee4",
   "metadata": {},
   "outputs": [
    {
     "data": {
      "text/plain": [
       "0.89"
      ]
     },
     "execution_count": 327,
     "metadata": {},
     "output_type": "execute_result"
    }
   ],
   "source": [
    "metrics.accuracy_score(y_test,y_pred)"
   ]
  },
  {
   "cell_type": "code",
   "execution_count": 328,
   "id": "d200437b",
   "metadata": {},
   "outputs": [
    {
     "data": {
      "image/png": "[encoded data removed]",
      "text/plain": [
       "<Figure size 360x504 with 1 Axes>"
      ]
     },
     "metadata": {
      "needs_background": "light"
     },
     "output_type": "display_data"
    }
   ],
   "source": [
    "plt.figure(figsize=(5, 7))\n",
    "\n",
    "\n",
    "ax = sns.distplot(y, hist=False, color=\"r\", label=\"Actual Value\")\n",
    "sns.distplot(y_pred, hist=False, color=\"b\", label=\"Fitted Values\" , ax=ax)\n",
    "\n",
    "\n",
    "plt.title('Actual vs Fitted Values for Price')\n",
    "\n",
    "\n",
    "plt.show()\n",
    "plt.close()"
   ]
  },
  {
   "cell_type": "code",
   "execution_count": null,
   "id": "c8804122",
   "metadata": {},
   "outputs": [],
   "source": []
  }
 ],
 "metadata": {
  "kernelspec": {
   "display_name": "Python 3 (ipykernel)",
   "language": "python",
   "name": "python3"
  },
  "language_info": {
   "codemirror_mode": {
    "name": "ipython",
    "version": 3
   },
   "file_extension": ".py",
   "mimetype": "text/x-python",
   "name": "python",
   "nbconvert_exporter": "python",
   "pygments_lexer": "ipython3",
   "version": "3.9.7"
  }
 },
 "nbformat": 4,
 "nbformat_minor": 5
}
